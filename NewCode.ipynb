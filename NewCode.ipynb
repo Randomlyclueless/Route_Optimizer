{
  "nbformat": 4,
  "nbformat_minor": 0,
  "metadata": {
    "colab": {
      "provenance": []
    },
    "kernelspec": {
      "name": "python3",
      "display_name": "Python 3"
    },
    "language_info": {
      "name": "python"
    }
  },
  "cells": [
    {
      "cell_type": "code",
      "source": [
        "pip install osmnx networkx folium"
      ],
      "metadata": {
        "colab": {
          "base_uri": "https://localhost:8080/"
        },
        "id": "8IXYNnKEuC0d",
        "outputId": "bbca1446-3cf1-4453-d640-d1318d1d5471"
      },
      "execution_count": 6,
      "outputs": [
        {
          "output_type": "stream",
          "name": "stdout",
          "text": [
            "Requirement already satisfied: osmnx in /usr/local/lib/python3.11/dist-packages (2.0.1)\n",
            "Requirement already satisfied: networkx in /usr/local/lib/python3.11/dist-packages (3.4.2)\n",
            "Requirement already satisfied: folium in /usr/local/lib/python3.11/dist-packages (0.19.5)\n",
            "Requirement already satisfied: geopandas>=1.0 in /usr/local/lib/python3.11/dist-packages (from osmnx) (1.0.1)\n",
            "Requirement already satisfied: numpy>=1.22 in /usr/local/lib/python3.11/dist-packages (from osmnx) (2.0.2)\n",
            "Requirement already satisfied: pandas>=1.4 in /usr/local/lib/python3.11/dist-packages (from osmnx) (2.2.2)\n",
            "Requirement already satisfied: requests>=2.27 in /usr/local/lib/python3.11/dist-packages (from osmnx) (2.32.3)\n",
            "Requirement already satisfied: shapely>=2.0 in /usr/local/lib/python3.11/dist-packages (from osmnx) (2.0.7)\n",
            "Requirement already satisfied: branca>=0.6.0 in /usr/local/lib/python3.11/dist-packages (from folium) (0.8.1)\n",
            "Requirement already satisfied: jinja2>=2.9 in /usr/local/lib/python3.11/dist-packages (from folium) (3.1.6)\n",
            "Requirement already satisfied: xyzservices in /usr/local/lib/python3.11/dist-packages (from folium) (2025.1.0)\n",
            "Requirement already satisfied: pyogrio>=0.7.2 in /usr/local/lib/python3.11/dist-packages (from geopandas>=1.0->osmnx) (0.10.0)\n",
            "Requirement already satisfied: packaging in /usr/local/lib/python3.11/dist-packages (from geopandas>=1.0->osmnx) (24.2)\n",
            "Requirement already satisfied: pyproj>=3.3.0 in /usr/local/lib/python3.11/dist-packages (from geopandas>=1.0->osmnx) (3.7.1)\n",
            "Requirement already satisfied: MarkupSafe>=2.0 in /usr/local/lib/python3.11/dist-packages (from jinja2>=2.9->folium) (3.0.2)\n",
            "Requirement already satisfied: python-dateutil>=2.8.2 in /usr/local/lib/python3.11/dist-packages (from pandas>=1.4->osmnx) (2.8.2)\n",
            "Requirement already satisfied: pytz>=2020.1 in /usr/local/lib/python3.11/dist-packages (from pandas>=1.4->osmnx) (2025.1)\n",
            "Requirement already satisfied: tzdata>=2022.7 in /usr/local/lib/python3.11/dist-packages (from pandas>=1.4->osmnx) (2025.1)\n",
            "Requirement already satisfied: charset-normalizer<4,>=2 in /usr/local/lib/python3.11/dist-packages (from requests>=2.27->osmnx) (3.4.1)\n",
            "Requirement already satisfied: idna<4,>=2.5 in /usr/local/lib/python3.11/dist-packages (from requests>=2.27->osmnx) (3.10)\n",
            "Requirement already satisfied: urllib3<3,>=1.21.1 in /usr/local/lib/python3.11/dist-packages (from requests>=2.27->osmnx) (2.3.0)\n",
            "Requirement already satisfied: certifi>=2017.4.17 in /usr/local/lib/python3.11/dist-packages (from requests>=2.27->osmnx) (2025.1.31)\n",
            "Requirement already satisfied: six>=1.5 in /usr/local/lib/python3.11/dist-packages (from python-dateutil>=2.8.2->pandas>=1.4->osmnx) (1.17.0)\n"
          ]
        }
      ]
    },
    {
      "cell_type": "code",
      "source": [
        "import osmnx as ox\n",
        "import networkx as nx\n",
        "import folium\n",
        "\n",
        "def get_shortest_path(city_name, start_area, end_area):\n",
        "    # Fetch the graph for the specified city\n",
        "    print(\"Fetching city graph...\")\n",
        "    graph = ox.graph_from_place(city_name, network_type='drive')\n",
        "\n",
        "    # Geocode the starting and ending areas to get their coordinates\n",
        "    print(\"Geocoding start and end locations...\")\n",
        "    start_location = ox.geocode(f\"{start_area}, {city_name}\")\n",
        "    end_location = ox.geocode(f\"{end_area}, {city_name}\")\n",
        "\n",
        "    # Get the nearest nodes to the start and end locations\n",
        "    print(\"Finding nearest nodes...\")\n",
        "    start_node = ox.distance.nearest_nodes(graph, start_location[1], start_location[0])\n",
        "    end_node = ox.distance.nearest_nodes(graph, end_location[1], end_location[0])\n",
        "\n",
        "    # Calculate the shortest path using Dijkstra's algorithm\n",
        "    print(\"Calculating shortest path...\")\n",
        "    shortest_path = nx.shortest_path(graph, start_node, end_node, weight='length')\n",
        "\n",
        "    # Extract the coordinates of the shortest path\n",
        "    print(\"Extracting path coordinates...\")\n",
        "    path_coordinates = [(graph.nodes[node]['y'], graph.nodes[node]['x']) for node in shortest_path]\n",
        "\n",
        "    # Create a folium map centered at the start location\n",
        "    print(\"Creating map...\")\n",
        "    map_center = [start_location[0], start_location[1]]\n",
        "    route_map = folium.Map(location=map_center, zoom_start=14)\n",
        "\n",
        "    # Add the shortest path to the map\n",
        "    folium.PolyLine(locations=path_coordinates, color='blue', weight=5, opacity=0.7).add_to(route_map)\n",
        "\n",
        "    # Add markers for the start and end points\n",
        "    folium.Marker(\n",
        "        location=[start_location[0], start_location[1]],\n",
        "        popup=f\"Start: {start_area}\",\n",
        "        icon=folium.Icon(color='green', icon='play')\n",
        "    ).add_to(route_map)\n",
        "\n",
        "    folium.Marker(\n",
        "        location=[end_location[0], end_location[1]],\n",
        "        popup=f\"End: {end_area}\",\n",
        "        icon=folium.Icon(color='red', icon='stop')\n",
        "    ).add_to(route_map)\n",
        "\n",
        "    # Save the map to an HTML file\n",
        "    print(\"Saving map...\")\n",
        "    route_map.save(\"shortest_path_map.html\")\n",
        "    print(\"Map saved to 'shortest_path_map.html'. Open this file in your browser to view the route.\")\n",
        "\n",
        "# Take input from the user\n",
        "city_name = input(\"Enter the city name (e.g., 'New York, USA'): \")\n",
        "start_area = input(\"Enter the starting area (e.g., 'Times Square'): \")\n",
        "end_area = input(\"Enter the ending area (e.g., 'Central Park'): \")\n",
        "\n",
        "# Call the function with user inputs\n",
        "get_shortest_path(city_name, start_area, end_area)"
      ],
      "metadata": {
        "colab": {
          "base_uri": "https://localhost:8080/"
        },
        "id": "8Qjn7QBKuE3o",
        "outputId": "16d13b87-801e-4d07-9368-4e89f8197533"
      },
      "execution_count": 9,
      "outputs": [
        {
          "output_type": "stream",
          "name": "stdout",
          "text": [
            "Enter the city name (e.g., 'New York, USA'): Pune, India\n",
            "Enter the starting area (e.g., 'Times Square'): Hadapsar\n",
            "Enter the ending area (e.g., 'Central Park'): Shivajinagar\n",
            "Fetching city graph...\n",
            "Geocoding start and end locations...\n",
            "Finding nearest nodes...\n",
            "Calculating shortest path...\n",
            "Extracting path coordinates...\n",
            "Creating map...\n",
            "Saving map...\n",
            "Map saved to 'shortest_path_map.html'. Open this file in your browser to view the route.\n"
          ]
        }
      ]
    }
  ]
}